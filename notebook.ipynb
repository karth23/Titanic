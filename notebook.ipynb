{
  "cells": [
    {
      "metadata": {
        "_uuid": "4603e8a86fae2036b3c2fb95b16193259152733d",
        "_cell_guid": "2e604ba6-85d8-4edb-a3eb-7b60e01cf1d5",
        "trusted": false,
        "collapsed": true
      },
      "cell_type": "code",
      "source": "# This Python 3 environment comes with many helpful analytics libraries installed\n# It is defined by the kaggle/python docker image: https://github.com/kaggle/docker-python\n# For example, here's several helpful packages to load in \n\nimport numpy as np # linear algebra\nimport pandas as pd # data processing, CSV file I/O (e.g. pd.read_csv)\n\n# Input data files are available in the \"../input/\" directory.\n# For example, running this (by clicking run or pressing Shift+Enter) will list the files in the input directory\n\nfrom subprocess import check_output\nprint(check_output([\"ls\", \"../input\"]).decode(\"utf8\"))\n\n# Any results you write to the current directory are saved as output.\ndf = pd.read_csv(\"../input/train.csv\")\nimport seaborn as sns\n",
      "execution_count": null,
      "outputs": []
    },
    {
      "metadata": {
        "_uuid": "3f54f631d97714a98818e093e174345bddf0c6c0",
        "_cell_guid": "c4f7820f-a0fe-41cc-872d-4e39802e0968"
      },
      "cell_type": "markdown",
      "source": ""
    },
    {
      "metadata": {
        "collapsed": true,
        "_uuid": "2fbf133291305a771e6c87f1b8acd8d49c1c7333",
        "_cell_guid": "e45b590f-b8f7-4f34-b7aa-86649a72ef60",
        "trusted": false
      },
      "cell_type": "code",
      "source": "df_cpy = df.copy()",
      "execution_count": null,
      "outputs": []
    },
    {
      "metadata": {
        "collapsed": true,
        "_uuid": "ab87746baa132bb5fece2f2716324d762c7323b6",
        "_cell_guid": "57e221a8-2b14-4b47-a72e-e67eaea659a0",
        "trusted": false
      },
      "cell_type": "code",
      "source": "df_test = pd.read_csv(\"../input/test.csv\")",
      "execution_count": null,
      "outputs": []
    },
    {
      "metadata": {
        "collapsed": true,
        "_uuid": "278ff795dd304563d7fc20815df3221d535710fc",
        "_cell_guid": "a16e957b-7ef3-4939-ad3b-e503c85a128a",
        "trusted": false
      },
      "cell_type": "code",
      "source": "df_testcpy = df_test.copy()",
      "execution_count": null,
      "outputs": []
    },
    {
      "metadata": {
        "_uuid": "e6a23f7339909a005f9a2d20ea5feea72476d463",
        "_cell_guid": "f64a5a07-710e-4afd-b81f-9d809949459b",
        "trusted": false,
        "collapsed": true
      },
      "cell_type": "code",
      "source": "df_cpy.head()",
      "execution_count": null,
      "outputs": []
    },
    {
      "metadata": {
        "_uuid": "f2a5ad3950bb709df120830f361799216693e2b7",
        "_cell_guid": "1d8c3faf-bef6-4fc9-96ac-fbcac5ea2eca",
        "trusted": false,
        "collapsed": true
      },
      "cell_type": "code",
      "source": "df_cpy.describe()",
      "execution_count": null,
      "outputs": []
    },
    {
      "metadata": {
        "_uuid": "cd049758641bde64a5ae846ade5be25f23a77171",
        "_cell_guid": "0779aef6-0d0b-4d49-b826-579f6a2bcacb",
        "trusted": false,
        "collapsed": true
      },
      "cell_type": "code",
      "source": "df_cpy.isnull().sum()",
      "execution_count": null,
      "outputs": []
    },
    {
      "metadata": {
        "collapsed": true,
        "_uuid": "600f85cd5fc45562e06cad0c3d73a2bfe2dee9ec",
        "_cell_guid": "6c5eb0db-cb18-43ed-82a6-3ee3d46a04a5",
        "trusted": false
      },
      "cell_type": "code",
      "source": "df_cpy=df_cpy.drop(['Cabin'],axis=1)",
      "execution_count": null,
      "outputs": []
    },
    {
      "metadata": {
        "collapsed": true,
        "_uuid": "d1837479fc67fbb5ad26abcecde43934c4b53e14",
        "_cell_guid": "1da0a116-5b0c-44c4-b19a-9b53f4f7c6a6",
        "trusted": false
      },
      "cell_type": "code",
      "source": "df_cpy = df_cpy.drop(['PassengerId'],axis=1)",
      "execution_count": null,
      "outputs": []
    },
    {
      "metadata": {
        "_uuid": "ccc35f72ffb162d35be0aaba54452e0e062cc2d2",
        "_cell_guid": "56491b48-2d53-4269-b68c-e8c407e20338",
        "trusted": false,
        "collapsed": true
      },
      "cell_type": "code",
      "source": "df_cpy['Parch'].unique()",
      "execution_count": null,
      "outputs": []
    },
    {
      "metadata": {
        "collapsed": true,
        "_uuid": "8cd8355aeff78ba5f11f5c2204293b29e541b825",
        "_cell_guid": "8c545f40-b3b0-4682-ad58-48508732beca",
        "trusted": false
      },
      "cell_type": "code",
      "source": "cols= ['Sex','Parch',]",
      "execution_count": null,
      "outputs": []
    },
    {
      "metadata": {
        "_uuid": "36b4b5287db70eb8cbf11bd33ff43807783d960a",
        "_cell_guid": "a5f99181-f25d-4920-b00f-55c8415a7b71",
        "trusted": false,
        "collapsed": true
      },
      "cell_type": "code",
      "source": "df_cpy[df_cpy['Survived']==1].hist(figsize=(10,8),bins=100)",
      "execution_count": null,
      "outputs": []
    },
    {
      "metadata": {
        "_uuid": "269ed2f0f04c5abc8f1e736d0768b2dd4a944cdb",
        "_cell_guid": "ef21f129-8887-4770-9775-6b1a2331ee0f",
        "trusted": false,
        "collapsed": true
      },
      "cell_type": "code",
      "source": "df_cpy[df_cpy['Survived']==0].hist(figsize=(10,8),bins=100)",
      "execution_count": null,
      "outputs": []
    },
    {
      "metadata": {
        "collapsed": true,
        "_uuid": "38b3e37aef177197f6b10ef46f4dc038d55474ea",
        "_cell_guid": "76fd950a-5c60-4506-b0f7-319a1e13b9d3",
        "trusted": false
      },
      "cell_type": "code",
      "source": "df_cpy['family'] = df_cpy['SibSp']+df_cpy['Parch']\ndf_testcpy['family'] = df_testcpy['SibSp']+df_testcpy['Parch']",
      "execution_count": null,
      "outputs": []
    },
    {
      "metadata": {
        "collapsed": true,
        "_uuid": "f30cb0743a9360560c6ece33e6cb9f7874992bb6",
        "_cell_guid": "4c466c82-6aba-43c7-9fc5-f38d3433e3e4",
        "trusted": false
      },
      "cell_type": "code",
      "source": "df_cpy = df_cpy.drop(['SibSp','Parch'],axis=1)\ndf_testcpy = df_testcpy.drop(['SibSp','Parch'],axis=1)",
      "execution_count": null,
      "outputs": []
    },
    {
      "metadata": {
        "collapsed": true,
        "_uuid": "d86a0184dbc030d50c22d53ec4d84619ca6651dd",
        "_cell_guid": "8244898f-e34e-42ca-b174-8b55ea37a146",
        "trusted": false
      },
      "cell_type": "code",
      "source": "df_cpy = df_cpy.drop(['Ticket'],axis=1)\ndf_testcpy = df_testcpy.drop(['Ticket'],axis=1)",
      "execution_count": null,
      "outputs": []
    },
    {
      "metadata": {
        "_uuid": "5d4c74bef5ba846bbadf127df5f4890d00146631",
        "_cell_guid": "5c74260e-6ce1-4565-9a4d-ba318f63015e",
        "trusted": false,
        "collapsed": true
      },
      "cell_type": "code",
      "source": "df_cpy['Embarked'].unique()",
      "execution_count": null,
      "outputs": []
    },
    {
      "metadata": {
        "collapsed": true,
        "_uuid": "f9d7e2f2a9b3dc94863382fef27c43917b5d24d9",
        "_cell_guid": "15dbc0a8-69bc-4b1e-8cc0-6e74b1aaffaa",
        "trusted": false
      },
      "cell_type": "code",
      "source": "df_cpy['Embarked'].fillna('C',inplace=True)",
      "execution_count": null,
      "outputs": []
    },
    {
      "metadata": {
        "collapsed": true,
        "_uuid": "a5f903811681348572c377479383f26ee354fa86",
        "_cell_guid": "5e9b3fd7-1019-4e1a-87a7-4eccaeaa5185",
        "trusted": false
      },
      "cell_type": "code",
      "source": "survived = df_cpy['Survived']",
      "execution_count": null,
      "outputs": []
    },
    {
      "metadata": {
        "collapsed": true,
        "_uuid": "04787356ccf642a980302e06309eaa5fabe958fc",
        "_cell_guid": "03566933-0974-4bf2-ae02-5a886d398b11",
        "trusted": false
      },
      "cell_type": "code",
      "source": "df_testcpy = df_testcpy.drop(['PassengerId'],axis=1)",
      "execution_count": null,
      "outputs": []
    },
    {
      "metadata": {
        "collapsed": true,
        "_uuid": "64a3e3ba8a678208b6d9b119e5bd8623a46098e3",
        "_cell_guid": "8409212b-fb37-42be-81d9-2a342a054fcb",
        "trusted": false
      },
      "cell_type": "code",
      "source": "df_testcpy = df_testcpy.drop(['Cabin'],axis=1)",
      "execution_count": null,
      "outputs": []
    },
    {
      "metadata": {
        "_uuid": "da06ce98f58f5610facbc4df5a530a6567e1177e",
        "_cell_guid": "eab1c316-794d-40ed-b870-7b0f4b20cf7e",
        "trusted": false,
        "collapsed": true
      },
      "cell_type": "code",
      "source": "df_testcpy.head()",
      "execution_count": null,
      "outputs": []
    },
    {
      "metadata": {
        "_uuid": "d3e8ca7bc9eb5b5a10a4ea49c4b040751895f5c0",
        "_cell_guid": "5af8c1dc-734a-4c53-acc1-57e157c01460",
        "trusted": false,
        "collapsed": true
      },
      "cell_type": "code",
      "source": "df_cpy['Age'].describe()",
      "execution_count": null,
      "outputs": []
    },
    {
      "metadata": {
        "collapsed": true,
        "_uuid": "1b17a3d9b9708a2c656482be1553b7ec9ab68b98",
        "_cell_guid": "16b89b92-ec0e-4955-8327-f9cbed037606",
        "trusted": false
      },
      "cell_type": "code",
      "source": "def agesets(age):\n    if (age<=10):\n        return 1\n    if (age>10 and age<=20):\n        return 2\n    if (age>20 and age<=30):\n        return 3\n    if (age>30 and age<=40):\n        return 4\n    if (age>40 and age<=50):\n        return 5\n    if (age>50 and age<=60):\n        return 6\n    if (age>60 and age<=70):\n        return 7\n    if (age>70 and age<=80):\n        return 8\n    if (age>80):\n        return 9\n    ",
      "execution_count": null,
      "outputs": []
    },
    {
      "metadata": {
        "collapsed": true,
        "_uuid": "30758c79b2d4442f1c0a2c7931a535b4ecee5988",
        "_cell_guid": "6198e4bb-7439-4e4e-93d1-f3535207dc4c",
        "trusted": false
      },
      "cell_type": "code",
      "source": "",
      "execution_count": null,
      "outputs": []
    },
    {
      "metadata": {
        "_uuid": "e58912e025cb0e4b40ab4164db2d98918ab76d0f",
        "_cell_guid": "87728565-7bcc-464f-9e53-31ad303a5d80",
        "trusted": false,
        "collapsed": true
      },
      "cell_type": "code",
      "source": "df_cpy.ix[5]['Age']",
      "execution_count": null,
      "outputs": []
    },
    {
      "metadata": {
        "collapsed": true,
        "_uuid": "66d42f1325b9497e9869e841642f456b1f6a9391",
        "_cell_guid": "6744edb8-4447-4f32-a43b-03c3aee4115a",
        "trusted": false
      },
      "cell_type": "code",
      "source": "df_cpy['Agecategorized']=df_cpy['Age'].apply(agesets)",
      "execution_count": null,
      "outputs": []
    },
    {
      "metadata": {
        "_uuid": "adff5c66304df250600374c8d99f789ed695373a",
        "_cell_guid": "d94fd7d2-c4af-4860-b66d-075bedbe0ad6",
        "trusted": false,
        "collapsed": true
      },
      "cell_type": "code",
      "source": "df_cpy[df_cpy['Agecategorized']==1].hist(figsize=(10,12))",
      "execution_count": null,
      "outputs": []
    },
    {
      "metadata": {
        "_uuid": "aa94cbd67ebe463cd78cca85a24eefc322ea65b3",
        "_cell_guid": "56ca95c4-9c3f-4f55-9fce-ecbac1108224",
        "trusted": false,
        "collapsed": true
      },
      "cell_type": "code",
      "source": "df_cpy[df_cpy['Agecategorized']==2].hist(figsize=(10,12))",
      "execution_count": null,
      "outputs": []
    },
    {
      "metadata": {
        "_uuid": "2431b9ec867738e64abf331c3a096f3447889a15",
        "_cell_guid": "7fdf5c24-cc24-4055-b8f7-b1d0d2655b55",
        "trusted": false,
        "collapsed": true
      },
      "cell_type": "code",
      "source": "df_cpy[df_cpy['Agecategorized']==3].hist(figsize=(10,12))",
      "execution_count": null,
      "outputs": []
    },
    {
      "metadata": {
        "_uuid": "ce68719df803289ac82de87d23134294143edb20",
        "_cell_guid": "dfc32569-d17e-4d3e-86ad-727b110d3366",
        "trusted": false,
        "collapsed": true
      },
      "cell_type": "code",
      "source": "df_cpy[df_cpy['Agecategorized']==4].hist(figsize=(10,12))",
      "execution_count": null,
      "outputs": []
    },
    {
      "metadata": {
        "_uuid": "80fc9c99a07cb9275bfc83fe350b68d2ae18de36",
        "_cell_guid": "6ad87ee1-a6be-4daa-ac88-d99a2fe74e42",
        "trusted": false,
        "collapsed": true
      },
      "cell_type": "code",
      "source": "df_cpy[df_cpy['Agecategorized']==5].hist(figsize=(10,12))",
      "execution_count": null,
      "outputs": []
    },
    {
      "metadata": {
        "_uuid": "ee47b598423c8b5d105e6e898dc6901747f98003",
        "_cell_guid": "41ad41ef-6ef2-4f39-809a-f3a53b668b72",
        "trusted": false,
        "collapsed": true
      },
      "cell_type": "code",
      "source": "df_cpy[df_cpy['Agecategorized']==6].hist(figsize=(10,12))",
      "execution_count": null,
      "outputs": []
    },
    {
      "metadata": {
        "_uuid": "9a655c1d887e909d212675838636ed58c972fdc1",
        "_cell_guid": "f03dcd55-f11e-40e7-8810-b03ace993d81",
        "trusted": false,
        "collapsed": true
      },
      "cell_type": "code",
      "source": "df_cpy[df_cpy['Age'].isnull()].hist(figsize = (12,15))",
      "execution_count": null,
      "outputs": []
    },
    {
      "metadata": {
        "_uuid": "428f66b308b4ae97c95c839ee117a36ac8582786",
        "_cell_guid": "a3014795-b5db-4cde-adad-879beb2bb36c",
        "trusted": false,
        "collapsed": true
      },
      "cell_type": "code",
      "source": "df_cpy['Agecategorized'].fillna(df_cpy['Age'].median(),inplace=True)",
      "execution_count": null,
      "outputs": []
    },
    {
      "metadata": {
        "_uuid": "c646bef8a14039e490854bb723ad741f8762584c",
        "_cell_guid": "512f98df-043a-4626-9356-46bf222e90c8",
        "trusted": false,
        "collapsed": true
      },
      "cell_type": "code",
      "source": "df_testcpy['Agecategorized']=df_testcpy['Age'].apply(agesets)",
      "execution_count": null,
      "outputs": []
    },
    {
      "metadata": {
        "_uuid": "8b7c9206fa4c7f26ccbc863162038e83a4806e4f",
        "_cell_guid": "546519cd-0cc6-4fb9-b421-70801025c165",
        "trusted": false,
        "collapsed": true
      },
      "cell_type": "code",
      "source": "df_testcpy['Agecategorized'].fillna(df_testcpy['Age'].median(),inplace=True)",
      "execution_count": null,
      "outputs": []
    },
    {
      "metadata": {
        "_uuid": "454c75e1492ab2cddaa61614521ce6d71628f8a8",
        "_cell_guid": "ce86523d-b72c-41dd-aae2-f8501b1beed9",
        "trusted": false,
        "collapsed": true
      },
      "cell_type": "code",
      "source": "sexmapping ={'male':0, 'female':1}\nembarkedmapping  = {'Q':1,'S':2,'C':3}\n",
      "execution_count": null,
      "outputs": []
    },
    {
      "metadata": {
        "collapsed": true,
        "_uuid": "a50c8f9267294853682332a998dbe9c98cc92503",
        "_cell_guid": "ab2a6a84-f36b-44e6-8523-5641034c47ff",
        "trusted": false
      },
      "cell_type": "code",
      "source": "df_cpy['mappedsex']=df_cpy['Sex'].map(sexmapping)\ndf_cpy['mappedembarked']=df_cpy['Embarked'].map(embarkedmapping)",
      "execution_count": null,
      "outputs": []
    },
    {
      "metadata": {
        "collapsed": true,
        "_uuid": "59c7c4efef6d0c79120abad80d3eab451c28e3c0",
        "_cell_guid": "85b6966a-4a97-461f-8c76-1da2121c3c21",
        "trusted": false
      },
      "cell_type": "code",
      "source": "df_testcpy['mappedsex']=df_testcpy['Sex'].map(sexmapping)\ndf_testcpy['mappedembarked']=df_testcpy['Embarked'].map(embarkedmapping)",
      "execution_count": null,
      "outputs": []
    },
    {
      "metadata": {
        "_uuid": "a84bfa4c3cadd97a068b189efe653ee00db01b18",
        "_cell_guid": "0ed7c6b9-ecb0-4f75-8920-e3d1b8e15f66",
        "trusted": false,
        "collapsed": true
      },
      "cell_type": "code",
      "source": "df_cpy = df_cpy.drop(['Sex','Embarked','Age','Survived'],axis=1)",
      "execution_count": null,
      "outputs": []
    },
    {
      "metadata": {
        "collapsed": true,
        "_uuid": "a56e207ef9c266a06c605b3a5685017be7231e3d",
        "_cell_guid": "0751e4ff-0172-4bda-87f8-86366b9b99d3",
        "trusted": false
      },
      "cell_type": "code",
      "source": "df_testcpy = df_testcpy.drop(['Sex','Embarked','Age'],axis=1)",
      "execution_count": null,
      "outputs": []
    },
    {
      "metadata": {
        "collapsed": true,
        "_uuid": "ca528db05943f9098dc9d76528a67c2edf344fc8",
        "_cell_guid": "826b715e-2206-48d0-929f-10d0c8c62b72",
        "trusted": false
      },
      "cell_type": "code",
      "source": "df_cpy = df_cpy.drop(['Name'],axis=1)\ndf_testcpy = df_testcpy.drop(['Name'],axis=1)",
      "execution_count": null,
      "outputs": []
    },
    {
      "metadata": {
        "_uuid": "1852b93dc9353acb920639be7bfd928fd3edd621",
        "_cell_guid": "eaeb5a67-a9dc-4d1a-8f49-7de752ce9438",
        "trusted": false,
        "collapsed": true
      },
      "cell_type": "code",
      "source": "df_cpy.head()",
      "execution_count": null,
      "outputs": []
    },
    {
      "metadata": {
        "collapsed": true,
        "_uuid": "f90a1a49b0da8359461b5e7338174a7cf05c18b8",
        "_cell_guid": "326d925d-05f7-4ce3-b0d1-38d1a1059f25",
        "trusted": false
      },
      "cell_type": "code",
      "source": "one_hot_embarked = pd.get_dummies(df_cpy['mappedembarked'])",
      "execution_count": null,
      "outputs": []
    },
    {
      "metadata": {
        "collapsed": true,
        "_uuid": "f479953d72d67059bc4b6aac75490cc8812d9881",
        "_cell_guid": "c204b5e9-eab1-48f9-a10f-ad4da7dedbaf",
        "trusted": false
      },
      "cell_type": "code",
      "source": "one_hot_embarked_test = pd.get_dummies(df_testcpy['mappedembarked'])",
      "execution_count": null,
      "outputs": []
    },
    {
      "metadata": {
        "collapsed": true,
        "_uuid": "30ddadf6f3f93396e147a6c26ee6a598065b0dc4",
        "_cell_guid": "56301982-486e-47d5-943d-9ab681402ae0",
        "trusted": false
      },
      "cell_type": "code",
      "source": "df_cpy = df_cpy.join(one_hot_embarked)",
      "execution_count": null,
      "outputs": []
    },
    {
      "metadata": {
        "collapsed": true,
        "_uuid": "0cecb6127f8d4e50bddc4fbe49654347935e5bc0",
        "_cell_guid": "0d37680a-b153-4017-9a17-f955899c86c3",
        "trusted": false
      },
      "cell_type": "code",
      "source": "df_testcpy = df_testcpy.join(one_hot_embarked_test)",
      "execution_count": null,
      "outputs": []
    },
    {
      "metadata": {
        "_uuid": "16bb57171aebcf98ac801cf29e483ba56c83831a",
        "_cell_guid": "8ce5ca28-64b8-499b-a165-783b788c8039",
        "trusted": false,
        "collapsed": true
      },
      "cell_type": "code",
      "source": "df_cpy.rename(columns={1:'Q',2:'S',3:'C'},inplace=True)",
      "execution_count": null,
      "outputs": []
    },
    {
      "metadata": {
        "collapsed": true,
        "_uuid": "a414bcd41406271eceeb36f02dd3f700ee74f9c8",
        "_cell_guid": "ebc3baa2-f839-4361-8338-06d3a241f8cd",
        "trusted": false
      },
      "cell_type": "code",
      "source": "df_testcpy.rename(columns={1:'Q',2:'S',3:'C'},inplace=True)",
      "execution_count": null,
      "outputs": []
    },
    {
      "metadata": {
        "_uuid": "c468236005e135269076236de5fa78aef9ad7758",
        "_cell_guid": "7acf0577-cba3-4379-8d88-18396bee1f3f",
        "trusted": false,
        "collapsed": true
      },
      "cell_type": "code",
      "source": "df_cpy = df_cpy.drop(['mappedembarked'],axis=1)\ndf_testcpy = df_testcpy.drop(['mappedembarked'],axis=1)",
      "execution_count": null,
      "outputs": []
    },
    {
      "metadata": {
        "_uuid": "e22d1946d4eb39e5bc235932e0b862389f931e33",
        "_cell_guid": "abb17e3a-3d5e-44ac-86f6-17280950660b",
        "trusted": false,
        "collapsed": true
      },
      "cell_type": "code",
      "source": "df_cpy.head()",
      "execution_count": null,
      "outputs": []
    },
    {
      "metadata": {
        "_uuid": "dca4223612965c52b76010706b6ce778ecdd2dc9",
        "_cell_guid": "f4617bc7-7a01-4e26-ae56-7a66422aeed4",
        "trusted": false,
        "collapsed": true
      },
      "cell_type": "code",
      "source": "from sklearn.linear_model import LinearRegression\nfrom sklearn.naive_bayes import GaussianNB\nfrom sklearn.linear_model import LogisticRegression\nfrom sklearn.svm import SVC\nfrom sklearn.cluster import KMeans\nfrom sklearn.cross_validation import train_test_split",
      "execution_count": null,
      "outputs": []
    },
    {
      "metadata": {
        "collapsed": true,
        "_uuid": "9c28e4f118e5e840e3df3974f4493610d919079d",
        "_cell_guid": "e7bf6bea-254c-4697-b373-f1998461e7bb",
        "trusted": false
      },
      "cell_type": "code",
      "source": "X_train,X_test,Y_train,Y_test = train_test_split(df_cpy,survived,test_size=0.2,random_state = 42)",
      "execution_count": null,
      "outputs": []
    },
    {
      "metadata": {
        "collapsed": true,
        "_uuid": "87445a4047d33d46a5bda1a13547075294adbd0c",
        "_cell_guid": "664454a4-d4d0-4376-a8bf-0012db3ec3c6",
        "trusted": false
      },
      "cell_type": "code",
      "source": "clf_linear_band = LinearRegression()\nclf_logistic_regression = LogisticRegression()\nclf_bayes= GaussianNB()\nclf_svc = SVC()\nclf_kmeans = KMeans(n_clusters=2)\n",
      "execution_count": null,
      "outputs": []
    },
    {
      "metadata": {
        "_uuid": "c255d2c363652978cffeb54cbbe510a85f05b44c",
        "_cell_guid": "55c01ff1-b239-4735-8e79-47c3563233f7",
        "trusted": false,
        "collapsed": true
      },
      "cell_type": "code",
      "source": "clf_linear_band.fit(X_train,Y_train)\nclf_logistic_regression.fit(X_train,Y_train) \nclf_bayes.fit(X_train,Y_train)\nclf_svc.fit(X_train,Y_train) \nclf_kmeans.fit(X_train,Y_train) ",
      "execution_count": null,
      "outputs": []
    },
    {
      "metadata": {
        "_uuid": "d74472d7a4f4f734b679cd7e13aa45f8b21c6ace",
        "_cell_guid": "1a07c219-8ee8-4758-9289-aced1352b81c",
        "trusted": false,
        "collapsed": true
      },
      "cell_type": "code",
      "source": "df_testcpy.fillna(df_testcpy['Fare'].median(),inplace=True)",
      "execution_count": null,
      "outputs": []
    },
    {
      "metadata": {
        "_uuid": "c38f5d10bd4b6423bd45961425dfb03cd04ca543",
        "_cell_guid": "af65734b-1c24-4971-bf1d-4042a4895adb",
        "trusted": false,
        "collapsed": true
      },
      "cell_type": "code",
      "source": "linear_pred=clf_linear_band.predict(X_test)\nlogistic_pred=clf_logistic_regression.predict(X_test)\nbayes_pred=clf_bayes.predict(X_test)\nsvc_pred=clf_svc.predict(X_test)\nkmeans_pred=clf_kmeans.predict(X_test)",
      "execution_count": null,
      "outputs": []
    },
    {
      "metadata": {
        "collapsed": true,
        "_uuid": "59433edf4a4cb0e36eb23cf08880f1a2276666d5",
        "_cell_guid": "d054ee4e-c7be-4317-acc8-2e24955c7c6f",
        "trusted": false
      },
      "cell_type": "code",
      "source": "from sklearn.metrics import accuracy_score",
      "execution_count": null,
      "outputs": []
    },
    {
      "metadata": {
        "_uuid": "3fa00c0ffc108831b7dbcdbb46c14d7ce2f7964e",
        "_cell_guid": "2ba1ecb8-2b54-404c-a95f-8f289b4bd3c8",
        "trusted": false,
        "collapsed": true
      },
      "cell_type": "code",
      "source": "print (accuracy_score(logistic_pred,Y_test))\nprint(accuracy_score(bayes_pred,Y_test))\nprint(accuracy_score(svc_pred,Y_test))\nprint(accuracy_score(kmeans_pred,Y_test))",
      "execution_count": null,
      "outputs": []
    },
    {
      "metadata": {
        "collapsed": true,
        "_uuid": "1e47a997d3e31dce7937e2518f1e2bf41c95af08",
        "_cell_guid": "d28e4f46-3e09-47ce-a756-37a42b879e46",
        "trusted": false
      },
      "cell_type": "code",
      "source": "",
      "execution_count": null,
      "outputs": []
    }
  ],
  "metadata": {
    "language_info": {
      "pygments_lexer": "ipython3",
      "name": "python",
      "mimetype": "text/x-python",
      "file_extension": ".py",
      "version": "3.6.3",
      "nbconvert_exporter": "python",
      "codemirror_mode": {
        "name": "ipython",
        "version": 3
      }
    },
    "kernelspec": {
      "display_name": "Python 3",
      "language": "python",
      "name": "python3"
    }
  },
  "nbformat": 4,
  "nbformat_minor": 1
}